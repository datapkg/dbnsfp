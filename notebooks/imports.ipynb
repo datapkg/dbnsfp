{
 "cells": [
  {
   "cell_type": "code",
   "execution_count": 1,
   "metadata": {
    "collapsed": true
   },
   "outputs": [],
   "source": [
    "%load_ext autoreload\n",
    "%autoreload 2\n",
    "%matplotlib inline"
   ]
  },
  {
   "cell_type": "code",
   "execution_count": 2,
   "metadata": {
    "collapsed": true,
    "run_control": {
     "marked": false
    }
   },
   "outputs": [],
   "source": [
    "# Standard library\n",
    "import sys\n",
    "import os\n",
    "import os.path as op\n",
    "import shutil\n",
    "import gzip\n",
    "import pickle\n",
    "import datetime\n",
    "import json\n",
    "import urllib\n",
    "import string\n",
    "import functools\n",
    "import tempfile\n",
    "import logging\n",
    "import itertools\n",
    "\n",
    "from importlib import reload\n",
    "from collections import Counter\n",
    "\n",
    "# Installed packages\n",
    "import numpy as np\n",
    "import scipy as sp\n",
    "import pandas as pd\n",
    "import sqlalchemy as sa\n",
    "import matplotlib.pyplot as plt\n",
    "import seaborn as sns\n",
    "import odo\n",
    "\n",
    "from IPython.display import display, HTML, Math\n",
    "\n",
    "# My packages\n",
    "import ascommon\n",
    "import datapkg"
   ]
  },
  {
   "cell_type": "code",
   "execution_count": 3,
   "metadata": {
    "collapsed": true
   },
   "outputs": [],
   "source": [
    "# Set constants\n",
    "SCHEMA_NAME = op.basename(op.dirname(os.getcwd()))\n",
    "CONNECTION_STR = os.environ['DATAPKG_CONNECTION_STR'] + '/' + SCHEMA_NAME\n",
    "STG_SERVER_IP = os.environ['STG_SERVER_IP']"
   ]
  },
  {
   "cell_type": "code",
   "execution_count": 4,
   "metadata": {
    "collapsed": false
   },
   "outputs": [],
   "source": [
    "# Configure logging\n",
    "logger = logging.getLogger()\n",
    "logger.setLevel(logging.DEBUG)\n",
    "logger.handlers[0].setFormatter(logging.Formatter('%(levelname)s - %(name)s - %(message)s'))\n",
    "logger.info('Initialized logger')\n",
    "\n",
    "logging.getLogger('sqlalchemy.engine').setLevel(logging.WARNING)"
   ]
  },
  {
   "cell_type": "code",
   "execution_count": 5,
   "metadata": {
    "collapsed": true
   },
   "outputs": [],
   "source": [
    "# Make things presentable\n",
    "pd.set_option('display.max_rows', 1000)\n",
    "pd.set_option('display.max_columns', 1000)\n",
    "pd.set_option('display.width', 1000)\n",
    "pd.options.mode.chained_assignment = None\n",
    "\n",
    "sns.set_style('whitegrid')\n",
    "sns.set_context('notebook', font_scale=2)"
   ]
  },
  {
   "cell_type": "code",
   "execution_count": 6,
   "metadata": {
    "collapsed": false
   },
   "outputs": [
    {
     "name": "stdout",
     "output_type": "stream",
     "text": [
      "2016-06-03 19:54:02.704979\n"
     ]
    }
   ],
   "source": [
    "print(datetime.datetime.now())"
   ]
  },
  {
   "cell_type": "code",
   "execution_count": 9,
   "metadata": {
    "collapsed": true
   },
   "outputs": [],
   "source": [
    "logger.error('Initialized logger')"
   ]
  }
 ],
 "metadata": {
  "kernelspec": {
   "display_name": "Python 3",
   "language": "python",
   "name": "python3"
  },
  "language_info": {
   "codemirror_mode": {
    "name": "ipython",
    "version": 3
   },
   "file_extension": ".py",
   "mimetype": "text/x-python",
   "name": "python",
   "nbconvert_exporter": "python",
   "pygments_lexer": "ipython3",
   "version": "3.5.1"
  }
 },
 "nbformat": 4,
 "nbformat_minor": 0
}
